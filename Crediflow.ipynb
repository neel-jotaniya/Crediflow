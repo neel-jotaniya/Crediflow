{
 "cells": [
  {
   "cell_type": "code",
   "execution_count": 1,
   "id": "683e3787",
   "metadata": {},
   "outputs": [],
   "source": [
    "# Install required libraries if not already installed\n",
    "# Uncomment and run the following lines in Jupyter Notebook if needed\n",
    "\n",
    "# !pip install openai           # For interacting with OpenAI's API\n",
    "# !pip install pytesseract      # For OCR (Optical Character Recognition)\n",
    "# !pip install pdf2image        # For converting PDF pages into images\n",
    "# !pip install pillow           # For image processing (PIL library)\n",
    "\n",
    "# Import necessary libraries for PDF processing, OCR, and OpenAI API interaction\n",
    "import os\n",
    "import openai\n",
    "import re\n",
    "import pytesseract\n",
    "from pdf2image import convert_from_path\n",
    "from PIL import Image\n",
    "\n",
    "print(\"✅ All necessary libraries are imported successfully.\")\n"
   ]
  },
  {
   "cell_type": "code",
   "execution_count": 2,
   "id": "8ecd76e8",
   "metadata": {},
   "outputs": [],
   "source": [
    "# Set up OpenAI API key (replace with your actual key)\n",
    "openai.api_key = \"api_key_here\"\n"
   ]
  },
  {
   "cell_type": "code",
   "execution_count": 7,
   "id": "67d73d79",
   "metadata": {},
   "outputs": [
    {
     "name": "stdout",
     "output_type": "stream",
     "text": [
      "✅ Folder 'extracted_images' created (if not already existing).\n"
     ]
    }
   ],
   "source": [
    "# Define file paths for input and output\n",
    "pdf_path = \"vodafone_annual_report_reduced.pdf\"\n",
    "image_dir = \"extracted_images\"  # Folder to store PDF-converted images\n",
    "\n",
    "vocab_path = \"vocabulary of allowed terms.rtf\"  # Vocabulary file\n",
    "output_txt_path = \"formatted_financial_tables.txt\"  # Final extracted output file\n",
    "\n",
    "# Create a folder for storing images if it doesn't exist\n",
    "os.makedirs(image_dir, exist_ok=True)\n",
    "print(f\"✅ Folder '{image_dir}' created (if not already existing).\")\n"
   ]
  },
  {
   "cell_type": "code",
   "execution_count": 4,
   "id": "44dde321",
   "metadata": {},
   "outputs": [
    {
     "name": "stdout",
     "output_type": "stream",
     "text": [
      "✅ Successfully saved 20 images in 'extracted_images/'.\n"
     ]
    }
   ],
   "source": [
    "# Convert each page of the PDF into an image\n",
    "pdf_images = convert_from_path(pdf_path)\n",
    "image_paths = []\n",
    "\n",
    "# Save extracted images\n",
    "for idx, img in enumerate(pdf_images):\n",
    "    img_path = os.path.join(image_dir, f\"page_{idx+1}.jpg\")\n",
    "    img.save(img_path, \"JPEG\")\n",
    "    image_paths.append(img_path)\n",
    "\n",
    "print(f\"✅ Successfully saved {len(image_paths)} images in '{image_dir}/'.\")\n"
   ]
  },
  {
   "cell_type": "code",
   "execution_count": 5,
   "id": "1158c2b9",
   "metadata": {},
   "outputs": [
    {
     "name": "stdout",
     "output_type": "stream",
     "text": [
      "✅ OCR text extraction completed successfully.\n"
     ]
    }
   ],
   "source": [
    "# Initialize empty text variable\n",
    "ocr_extracted_text = \"\"\n",
    "\n",
    "# Extract text using OCR from each image\n",
    "for i, img_path in enumerate(image_paths):\n",
    "    extracted_text = pytesseract.image_to_string(Image.open(img_path), lang=\"eng\")\n",
    "    ocr_extracted_text += f\"\\n\\nPage {i+1}:\\n{extracted_text}\"\n",
    "\n",
    "print(\"✅ OCR text extraction completed successfully.\")\n"
   ]
  },
  {
   "cell_type": "code",
   "execution_count": 8,
   "id": "08a2e952",
   "metadata": {},
   "outputs": [
    {
     "name": "stdout",
     "output_type": "stream",
     "text": [
      "✅ Vocabulary list loaded successfully.\n"
     ]
    }
   ],
   "source": [
    "# Function to extract plain text from RTF file\n",
    "def extract_plain_text_from_rtf(file_path):\n",
    "    with open(file_path, \"r\", encoding=\"utf-8\") as file:\n",
    "        content = file.read()\n",
    "    return re.sub(r\"{\\\\.*?}\", \"\", content)  # Remove RTF formatting tags\n",
    "\n",
    "# Load and clean vocabulary list\n",
    "def load_vocab(file_path):\n",
    "    return extract_plain_text_from_rtf(file_path).split(\"\\n\")\n",
    "\n",
    "# Load vocabulary terms\n",
    "vocabulary_list = load_vocab(vocab_path)\n",
    "print(\"✅ Vocabulary list loaded successfully.\")\n"
   ]
  },
  {
   "cell_type": "code",
   "execution_count": 10,
   "id": "db506cd7",
   "metadata": {},
   "outputs": [
    {
     "name": "stdout",
     "output_type": "stream",
     "text": [
      "✅ Successfully extracted financial tables.\n"
     ]
    }
   ],
   "source": [
    "# Function to extract structured financial tables while keeping original formatting\n",
    "def extract_financial_tables(text):\n",
    "    response = openai.chat.completions.create(\n",
    "        model=\"gpt-4-turbo\",\n",
    "        messages=[\n",
    "            {\"role\": \"system\", \"content\": \"Extract all financial tables (Balance Sheet, Income Statement, Cash Flow) from the provided text while maintaining the original spacing and structure.\"},\n",
    "            {\"role\": \"user\", \"content\": f\"Extract all financial tables from the following text and return them in their original format:\\n\\n{text}\"}\n",
    "        ],\n",
    "        max_tokens=4000\n",
    "    )\n",
    "\n",
    "    return response.choices[0].message.content\n",
    "\n",
    "# Call GPT-4 to extract tables from OCR-extracted text\n",
    "extracted_tables_text = extract_financial_tables(ocr_extracted_text)\n",
    "print(\"✅ Successfully extracted financial tables.\")\n"
   ]
  },
  {
   "cell_type": "code",
   "execution_count": 11,
   "id": "589794e8",
   "metadata": {},
   "outputs": [
    {
     "name": "stdout",
     "output_type": "stream",
     "text": [
      "✅ Financial line items relabeled successfully.\n"
     ]
    }
   ],
   "source": [
    "# Function to relabel financial terms while keeping table structure intact\n",
    "def relabel_financial_terms(text, vocab):\n",
    "    response = openai.chat.completions.create(\n",
    "        model=\"gpt-4-turbo\",\n",
    "        messages=[\n",
    "            {\n",
    "                \"role\": \"system\",\n",
    "                \"content\": (\n",
    "                    \"You are a financial analyst. Replace financial line items \"\n",
    "                    \"with the closest matching terms from a given vocabulary list, while keeping the rest of the text unchanged. \"\n",
    "                    \"Ensure the output remains structured as a well-formatted Markdown table, preserving alignment.\"\n",
    "                ),\n",
    "            },\n",
    "            {\n",
    "                \"role\": \"user\",\n",
    "                \"content\": (\n",
    "                    f\"Here is a financial table extracted from a report:\\n\\n{text}\\n\\n\"\n",
    "                    f\"Replace financial line items with the closest matching terms from this vocabulary:\\n{vocab}\\n\\n\"\n",
    "                    \"Return **only** the modified table in Markdown format. Do not include any extra explanations.\"\n",
    "                ),\n",
    "            },\n",
    "        ],\n",
    "        max_tokens=4000\n",
    "    )\n",
    "\n",
    "    return response.choices[0].message.content\n",
    "\n",
    "# Apply relabeling function\n",
    "final_formatted_output = relabel_financial_terms(extracted_tables_text, vocabulary_list)\n",
    "print(\"✅ Financial line items relabeled successfully.\")\n"
   ]
  },
  {
   "cell_type": "code",
   "execution_count": 12,
   "id": "0c11a98e",
   "metadata": {},
   "outputs": [
    {
     "name": "stdout",
     "output_type": "stream",
     "text": [
      "✅ Extraction process complete. Check the file 'formatted_financial_tables.txt' for results.\n"
     ]
    }
   ],
   "source": [
    "# Save final formatted financial tables to a text file\n",
    "with open(output_txt_path, \"w\", encoding=\"utf-8\") as file:\n",
    "    file.write(final_formatted_output)\n",
    "\n",
    "print(f\"✅ Extraction process complete. Check the file '{output_txt_path}' for results.\")\n"
   ]
  },
  {
   "cell_type": "code",
   "execution_count": null,
   "id": "8c507fab",
   "metadata": {},
   "outputs": [],
   "source": []
  }
 ],
 "metadata": {
  "kernelspec": {
   "display_name": "Python 3 (ipykernel)",
   "language": "python",
   "name": "python3"
  },
  "language_info": {
   "codemirror_mode": {
    "name": "ipython",
    "version": 3
   },
   "file_extension": ".py",
   "mimetype": "text/x-python",
   "name": "python",
   "nbconvert_exporter": "python",
   "pygments_lexer": "ipython3",
   "version": "3.9.12"
  }
 },
 "nbformat": 4,
 "nbformat_minor": 5
}
